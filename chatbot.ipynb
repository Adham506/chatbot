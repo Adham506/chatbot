{
  "nbformat": 4,
  "nbformat_minor": 0,
  "metadata": {
    "colab": {
      "provenance": []
    },
    "kernelspec": {
      "name": "python3",
      "display_name": "Python 3"
    },
    "language_info": {
      "name": "python"
    }
  },
  "cells": [
    {
      "cell_type": "code",
      "execution_count": null,
      "metadata": {
        "colab": {
          "base_uri": "https://localhost:8080/"
        },
        "id": "6N-hOTk63bbz",
        "outputId": "00c93aae-fdff-4899-d3b2-07c2b8d49902"
      },
      "outputs": [
        {
          "output_type": "stream",
          "name": "stdout",
          "text": [
            "adham\n",
            "Welcome adham😊! to the Supermarket Chat!\n",
            "\n",
            "adham:hi\n",
            "Bot: Hello! Welcome to our supermarket.\n",
            "\n",
            "adham:excuse me, can you help me?\n",
            "Bot: I'm sorry, I didn't understand that.\n",
            "\n",
            "adham:excuse me, can you help me?\n",
            "Bot: I'm sorry, I didn't understand that.\n",
            "\n"
          ]
        }
      ],
      "source": [
        "import random\n",
        "\n",
        "responses = {\n",
        "    \"hi\": [\"Hello! Welcome to our supermarket.\", \"Hi there! How can I assist you today?\", \"Hey! Great to see you!\"],\n",
        "    \"how are you?\": [\"I'm doing well, thank you! How about you?\", \"Feeling great, thanks! What can I do for you today?\"],\n",
        "    \"excuse me, can you help me?\": [\"Hello! I'm the supermarket owner. Is there anything specific you're looking for?\", \"Hi, welcome! If you need any help, feel free to ask.\"],\n",
        "    \"customer_greeting\": [\"Hi there! What brings you to our supermarket today?\", \"Hello, valued customer! How can we make your shopping experience better?\"],\n",
        "    \"customer_compliment\": [\"Thank you so much! We aim to provide the best service possible.\", \"I appreciate your kind words! It's our pleasure to serve you.\"],\n",
        "    \"customer_complaint\": [\"I'm sorry to hear that. Could you please share more details so we can address the issue?\", \"I apologize for any inconvenience. Let's work together to resolve your concern.\"],\n",
        "    \"product_inquiry\": [\"Sure, feel free to ask about any specific product, and I'll be happy to help.\", \"Looking for something in particular? Our wide selection might have just what you need.\"],\n",
        "    \"product_recommendation\": [\"If you're into [category], you might like [recommended_product]. It's been quite popular lately.\", \"For [occasion], I would recommend trying [recommended_product]. It's a customer favorite.\"],\n",
        "    \"sales_promotion\": [\"We currently have a special promotion on [product_category]. Don't miss out on the great deals!\", \"Our ongoing promotion includes discounts on [product_category]. Check it out near the entrance!\"],\n",
        "    \"loyalty_program\": [\"Have you joined our loyalty program? You can earn points and enjoy exclusive discounts. Would you like more information?\", \"As a valued customer, you might be interested in our loyalty program. It comes with exciting perks!\"],\n",
        "    \"thank_you\": [\"You're welcome! If you need anything else, just let us know.\", \"Anytime! We're here to help. Have a wonderful day!\"],\n",
        "    \"goodbye\": [\"Goodbye! Thank you for choosing us.\", \"Have a great day! We look forward to serving you again.\", \"Until next time!\"],\n",
        "}\n",
        "\n",
        "\n",
        "\n",
        "name=input()\n",
        "def chat():\n",
        "    print(f\"Welcome {name}😊! to the Supermarket Chat!\\n\")\n",
        "    while True:\n",
        "        user_input = input(f\"{name}:\").lower()\n",
        "        if user_input == 'exit':\n",
        "            print(\"Goodbye! Thanks for chatting.\")\n",
        "            break\n",
        "        response = random.choice(responses.get(user_input, [\"I'm sorry, I didn't understand that.\"]))\n",
        "        print(f\"Bot: {response}\\n\")\n",
        "chat()"
      ]
    }
  ]
}